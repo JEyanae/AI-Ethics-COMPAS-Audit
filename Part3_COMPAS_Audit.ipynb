{
  "nbformat": 4,
  "nbformat_minor": 0,
  "metadata": {
    "colab": {
      "provenance": []
    },
    "kernelspec": {
      "name": "python3",
      "display_name": "Python 3"
    },
    "language_info": {
      "name": "python"
    }
  },
  "cells": [
    {
      "cell_type": "code",
      "source": [
        "# Load the rpy2 extension to run R code in the notebook\n",
        "%load_ext rpy2.ipython\n",
        "import warnings\n",
        "# Filter out warnings from the dplyr package\n",
        "warnings.filterwarnings('ignore')"
      ],
      "metadata": {
        "colab": {
          "base_uri": "https://localhost:8080/"
        },
        "id": "5g26YqJLxtGP",
        "outputId": "b14b282e-ba19-471c-82e1-3d9b8eb02bb7"
      },
      "execution_count": 249,
      "outputs": [
        {
          "output_type": "stream",
          "name": "stdout",
          "text": [
            "The rpy2.ipython extension is already loaded. To reload it, use:\n",
            "  %reload_ext rpy2.ipython\n"
          ]
        }
      ]
    },
    {
      "cell_type": "code",
      "source": [
        "%%R\n",
        "# Load the dplyr library for data manipulation\n",
        "library(dplyr)\n",
        "# Load the ggplot2 library for data visualization\n",
        "library(ggplot2)\n",
        "# Read the raw data from the compas-scores-two-years.csv file into a dataframe\n",
        "raw_data <- read.csv(\"./compas-scores-two-years.csv\")\n",
        "# Print the number of rows in the raw data\n",
        "nrow(raw_data)"
      ],
      "metadata": {
        "colab": {
          "base_uri": "https://localhost:8080/"
        },
        "id": "Bt4wvEVQxzNn",
        "outputId": "ad11845a-0ef1-4757-e6c4-4a07de8a7af8"
      },
      "execution_count": 250,
      "outputs": [
        {
          "output_type": "stream",
          "name": "stdout",
          "text": [
            "[1] 7214\n"
          ]
        }
      ]
    },
    {
      "cell_type": "code",
      "source": [
        "%%R\n",
        "# Select relevant columns from the raw data and filter the dataset\n",
        "df <- dplyr::select(raw_data, age, c_charge_degree, race, age_cat, score_text, sex, priors_count,\n",
        "                    days_b_screening_arrest, decile_score, is_recid, two_year_recid, c_jail_in, c_jail_out) %>%\n",
        "        # Filter for records where the number of days between screening and arrest is within 30 days\n",
        "        filter(days_b_screening_arrest <= 30) %>%\n",
        "        filter(days_b_screening_arrest >= -30) %>%\n",
        "        # Filter out records where the recidivism status is unknown (-1)\n",
        "        filter(is_recid != -1) %>%\n",
        "        # Filter out records with unknown charge degree ('O')\n",
        "        filter(c_charge_degree != \"O\") %>%\n",
        "        # Filter out records with missing score text ('N/A')\n",
        "        filter(score_text != 'N/A')\n",
        "# Print the number of rows in the filtered dataframe\n",
        "nrow(df)"
      ],
      "metadata": {
        "colab": {
          "base_uri": "https://localhost:8080/"
        },
        "id": "12Fmi7ldx9Uv",
        "outputId": "6f51b678-38c4-4420-ce41-638e8580f18f"
      },
      "execution_count": 251,
      "outputs": [
        {
          "output_type": "stream",
          "name": "stdout",
          "text": [
            "[1] 6172\n"
          ]
        }
      ]
    },
    {
      "cell_type": "code",
      "source": [
        "%%R\n",
        "# Calculate the length of stay in jail by subtracting the check-in date from the check-out date\n",
        "df$length_of_stay <- as.numeric(as.Date(df$c_jail_out) - as.Date(df$c_jail_in))\n",
        "# Calculate the correlation between the length of stay and the decile score\n",
        "cor(df$length_of_stay, df$decile_score)"
      ],
      "metadata": {
        "colab": {
          "base_uri": "https://localhost:8080/"
        },
        "id": "noHQgwWIydZP",
        "outputId": "c676d781-96da-4f53-cc5c-d16e97042905"
      },
      "execution_count": 252,
      "outputs": [
        {
          "output_type": "stream",
          "name": "stdout",
          "text": [
            "[1] 0.2073297\n"
          ]
        }
      ]
    },
    {
      "cell_type": "code",
      "source": [
        "%%R\n",
        "# Get a summary of the age_cat column\n",
        "summary(df$age_cat)"
      ],
      "metadata": {
        "colab": {
          "base_uri": "https://localhost:8080/"
        },
        "id": "m6QXdF1dy3CX",
        "outputId": "458afafe-658d-44bb-ae26-39f19c22c151"
      },
      "execution_count": 253,
      "outputs": [
        {
          "output_type": "stream",
          "name": "stdout",
          "text": [
            "   Length     Class      Mode \n",
            "     6172 character character \n"
          ]
        }
      ]
    },
    {
      "cell_type": "code",
      "source": [
        "%%R\n",
        "# Get a summary of the race column\n",
        "summary(df$race)"
      ],
      "metadata": {
        "colab": {
          "base_uri": "https://localhost:8080/"
        },
        "id": "8ULGtzEz0Wpn",
        "outputId": "1bfc3ecf-2a94-49f6-d03b-b3d30cd8b835"
      },
      "execution_count": 254,
      "outputs": [
        {
          "output_type": "stream",
          "name": "stdout",
          "text": [
            "   Length     Class      Mode \n",
            "     6172 character character \n"
          ]
        }
      ]
    },
    {
      "cell_type": "code",
      "source": [
        "# Calculate and print the percentage distribution of defendants by race\n",
        "print(\"Black defendants: %.2f%%\" %            (3175 / 6172 * 100))\n",
        "print(\"White defendants: %.2f%%\" %            (2103 / 6172 * 100))\n",
        "print(\"Hispanic defendants: %.2f%%\" %         (509  / 6172 * 100))\n",
        "print(\"Asian defendants: %.2f%%\" %            (31   / 6172 * 100))\n",
        "print(\"Native American defendants: %.2f%%\" %  (11   / 6172 * 100))"
      ],
      "metadata": {
        "colab": {
          "base_uri": "https://localhost:8080/"
        },
        "id": "naqhRYaZ0bov",
        "outputId": "939c0e20-4bdd-4403-b003-75fef1c9828f"
      },
      "execution_count": 255,
      "outputs": [
        {
          "output_type": "stream",
          "name": "stdout",
          "text": [
            "Black defendants: 51.44%\n",
            "White defendants: 34.07%\n",
            "Hispanic defendants: 8.25%\n",
            "Asian defendants: 0.50%\n",
            "Native American defendants: 0.18%\n"
          ]
        }
      ]
    },
    {
      "cell_type": "code",
      "source": [
        "%%R\n",
        "# Create a cross-tabulation (contingency table) of sex and race\n",
        "# This shows the breakdown of sex within each racial category\n",
        "xtabs(~ sex + race, data=df)"
      ],
      "metadata": {
        "colab": {
          "base_uri": "https://localhost:8080/"
        },
        "id": "0Q44OppQ0rFu",
        "outputId": "8112b6a1-4271-473d-bcd8-690677f476d1"
      },
      "execution_count": 256,
      "outputs": [
        {
          "output_type": "stream",
          "name": "stdout",
          "text": [
            "        race\n",
            "sex      African-American Asian Caucasian Hispanic Native American Other\n",
            "  Female              549     2       482       82               2    58\n",
            "  Male               2626    29      1621      427               9   285\n"
          ]
        }
      ]
    },
    {
      "cell_type": "code",
      "source": [
        "# Calculate and print the percentage distribution of defendants by sex\n",
        "print(\"Men: %.2f%%\" %   (4997 / 6172 * 100))\n",
        "print(\"Women: %.2f%%\" % (1175 / 6172 * 100))"
      ],
      "metadata": {
        "colab": {
          "base_uri": "https://localhost:8080/"
        },
        "id": "1QL9GpQl1B-u",
        "outputId": "53639868-67dd-49c8-b9a4-c90b83d23d43"
      },
      "execution_count": 257,
      "outputs": [
        {
          "output_type": "stream",
          "name": "stdout",
          "text": [
            "Men: 80.96%\n",
            "Women: 19.04%\n"
          ]
        }
      ]
    },
    {
      "cell_type": "code",
      "source": [
        "%%R\n",
        "# Count the number of defendants who recidivated within two years (two_year_recid == 1)\n",
        "nrow(filter(df, two_year_recid == 1))"
      ],
      "metadata": {
        "colab": {
          "base_uri": "https://localhost:8080/"
        },
        "id": "ZBFoF4351Jg3",
        "outputId": "dde269e9-d169-4060-8ff0-838eb46a84ae"
      },
      "execution_count": 258,
      "outputs": [
        {
          "output_type": "stream",
          "name": "stdout",
          "text": [
            "[1] 2809\n"
          ]
        }
      ]
    },
    {
      "cell_type": "code",
      "source": [
        "%%R\n",
        "# Calculate the percentage of defendants who recidivated within two years\n",
        "nrow(filter(df, two_year_recid == 1)) / nrow(df) * 100"
      ],
      "metadata": {
        "colab": {
          "base_uri": "https://localhost:8080/"
        },
        "id": "e-EJXOpe1T0u",
        "outputId": "d799c262-c1ff-4fa1-da29-9836a276c388"
      },
      "execution_count": 259,
      "outputs": [
        {
          "output_type": "stream",
          "name": "stdout",
          "text": [
            "[1] 45.51199\n"
          ]
        }
      ]
    },
    {
      "cell_type": "code",
      "source": [
        "%%R -w 900 -h 363 -u px\n",
        "# Install and load necessary packages for plotting\n",
        "install.packages(\"gridExtra\", repos = \"http://cran.us.r-project.org\")\n",
        "library(grid)\n",
        "library(gridExtra)\n",
        "# Create a bar plot of decile scores for Black defendants\n",
        "pblack <- ggplot(data=filter(df, race ==\"African-American\"), aes(ordered(decile_score))) +\n",
        "          geom_bar() + xlab(\"Decile Score\") +\n",
        "          ylim(0, 650) + ggtitle(\"Black Defendant's Decile Scores\")\n",
        "# Create a bar plot of decile scores for White defendants\n",
        "pwhite <- ggplot(data=filter(df, race ==\"Caucasian\"), aes(ordered(decile_score))) +\n",
        "          geom_bar() + xlab(\"Decile Score\") +\n",
        "          ylim(0, 650) + ggtitle(\"White Defendant's Decile Scores\")\n",
        "# Arrange and display the two plots side by side\n",
        "grid.arrange(pblack, pwhite,  ncol = 2)"
      ],
      "metadata": {
        "colab": {
          "base_uri": "https://localhost:8080/",
          "height": 554
        },
        "id": "gjY_UJkm2DCW",
        "outputId": "9e1ea399-3739-47c4-adcf-e576f8dfb48b"
      },
      "execution_count": 260,
      "outputs": [
        {
          "output_type": "display_data",
          "data": {
            "text/plain": [
              "Installing package into ‘/usr/local/lib/R/site-library’\n",
              "(as ‘lib’ is unspecified)\n",
              "trying URL 'http://cran.us.r-project.org/src/contrib/gridExtra_2.3.tar.gz'\n",
              "Content type 'application/x-gzip' length 1062844 bytes (1.0 MB)\n",
              "==================================================\n",
              "downloaded 1.0 MB\n",
              "\n",
              "\n",
              "The downloaded source packages are in\n",
              "\t‘/tmp/Rtmpprmddf/downloaded_packages’\n"
            ]
          },
          "metadata": {}
        },
        {
          "output_type": "display_data",
          "data": {
            "image/png": "[encoded data removed]",
            "text/plain": [
              "<IPython.core.display.Image object>"
            ]
          },
          "metadata": {}
        }
      ]
    },
    {
      "cell_type": "code",
      "source": [
        "%%R\n",
        "# Create a contingency table of decile score and race to show the distribution of scores across racial groups\n",
        "xtabs(~ decile_score + race, data=df)"
      ],
      "metadata": {
        "colab": {
          "base_uri": "https://localhost:8080/"
        },
        "id": "zWMIM7N32TXm",
        "outputId": "e1cea329-1cf7-4510-83b9-402dc093bd6c"
      },
      "execution_count": 261,
      "outputs": [
        {
          "output_type": "stream",
          "name": "stdout",
          "text": [
            "            race\n",
            "decile_score African-American Asian Caucasian Hispanic Native American Other\n",
            "          1               365    15       605      159               0   142\n",
            "          2               346     4       321       89               2    60\n",
            "          3               298     5       238       73               1    32\n",
            "          4               337     0       243       47               0    39\n",
            "          5               323     1       200       39               0    19\n",
            "          6               318     2       160       27               2    20\n",
            "          7               343     1       113       28               2     9\n",
            "          8               301     2        96       14               0     7\n",
            "          9               317     0        77       17               2     7\n",
            "          10              227     1        50       16               2     8\n"
          ]
        }
      ]
    },
    {
      "cell_type": "code",
      "source": [
        "%%R\n",
        "# Data wrangling: Create factor variables and relevel them for the logistic regression model\n",
        "df <- mutate(df, crime_factor = factor(c_charge_degree)) %>%\n",
        "      mutate(age_factor = as.factor(age_cat)) %>%\n",
        "      within(age_factor <- relevel(age_factor, ref = 1)) %>% # Relevel age_factor with reference level 1\n",
        "      mutate(race_factor = factor(race)) %>%\n",
        "      within(race_factor <- relevel(race_factor, ref = 3)) %>% # Relevel race_factor with reference level 3 (Caucasian)\n",
        "      mutate(gender_factor = factor(sex, labels= c(\"Female\",\"Male\"))) %>%\n",
        "      within(gender_factor <- relevel(gender_factor, ref = 2)) %>% # Relevel gender_factor with reference level 2 (Male)\n",
        "      mutate(score_factor = factor(score_text != \"Low\", labels = c(\"LowScore\",\"HighScore\"))) # Create a binary factor for High vs. Low scores\n",
        "# Fit a logistic regression model to predict HighScore based on several predictors\n",
        "model <- glm(score_factor ~ gender_factor + age_factor + race_factor +\n",
        "                            priors_count + crime_factor + two_year_recid, family=\"binomial\", data=df)\n",
        "# Summarize the logistic regression model results\n",
        "summary(model)"
      ],
      "metadata": {
        "colab": {
          "base_uri": "https://localhost:8080/"
        },
        "id": "oUWrC7UP2iC2",
        "outputId": "58cf1fe4-54a7-42b1-c040-3547427c170d"
      },
      "execution_count": 262,
      "outputs": [
        {
          "output_type": "stream",
          "name": "stdout",
          "text": [
            "\n",
            "Call:\n",
            "glm(formula = score_factor ~ gender_factor + age_factor + race_factor + \n",
            "    priors_count + crime_factor + two_year_recid, family = \"binomial\", \n",
            "    data = df)\n",
            "\n",
            "Coefficients:\n",
            "                            Estimate Std. Error z value Pr(>|z|)    \n",
            "(Intercept)                 -1.52554    0.07851 -19.430  < 2e-16 ***\n",
            "gender_factorFemale          0.22127    0.07951   2.783 0.005388 ** \n",
            "age_factorGreater than 45   -1.35563    0.09908 -13.682  < 2e-16 ***\n",
            "age_factorLess than 25       1.30839    0.07593  17.232  < 2e-16 ***\n",
            "race_factorAfrican-American  0.47721    0.06935   6.881 5.93e-12 ***\n",
            "race_factorAsian            -0.25441    0.47821  -0.532 0.594717    \n",
            "race_factorHispanic         -0.42839    0.12813  -3.344 0.000827 ***\n",
            "race_factorNative American   1.39421    0.76612   1.820 0.068784 .  \n",
            "race_factorOther            -0.82635    0.16208  -5.098 3.43e-07 ***\n",
            "priors_count                 0.26895    0.01110  24.221  < 2e-16 ***\n",
            "crime_factorM               -0.31124    0.06655  -4.677 2.91e-06 ***\n",
            "two_year_recid               0.68586    0.06402  10.713  < 2e-16 ***\n",
            "---\n",
            "Signif. codes:  0 ‘***’ 0.001 ‘**’ 0.01 ‘*’ 0.05 ‘.’ 0.1 ‘ ’ 1\n",
            "\n",
            "(Dispersion parameter for binomial family taken to be 1)\n",
            "\n",
            "    Null deviance: 8483.3  on 6171  degrees of freedom\n",
            "Residual deviance: 6168.4  on 6160  degrees of freedom\n",
            "AIC: 6192.4\n",
            "\n",
            "Number of Fisher Scoring iterations: 5\n",
            "\n"
          ]
        }
      ]
    },
    {
      "cell_type": "code",
      "source": [
        "%%R\n",
        "# Calculate the baseline probability of having a HighScore (when all predictors are at reference level)\n",
        "control <- exp(-1.52554) / (1 + exp(-1.52554))\n",
        "# Calculate the odds ratio for African-American compared to the reference race (Caucasian)\n",
        "# The formula used here calculates the adjusted odds ratio based on the logistic regression coefficient\n",
        "exp(0.47721) / (1 - control + (control * exp(0.47721)))"
      ],
      "metadata": {
        "colab": {
          "base_uri": "https://localhost:8080/"
        },
        "id": "MG9ayZmz3EAt",
        "outputId": "eccf64da-9422-4613-bb05-f75353024a77"
      },
      "execution_count": 263,
      "outputs": [
        {
          "output_type": "stream",
          "name": "stdout",
          "text": [
            "[1] 1.452841\n"
          ]
        }
      ]
    },
    {
      "cell_type": "code",
      "source": [
        "%%R\n",
        "# Calculate the odds ratio for Female compared to the reference sex (Male)\n",
        "# The formula used here calculates the adjusted odds ratio based on the logistic regression coefficient\n",
        "exp(0.22127) / (1 - control + (control * exp(0.22127)))"
      ],
      "metadata": {
        "colab": {
          "base_uri": "https://localhost:8080/"
        },
        "id": "luzdJWkh3WlH",
        "outputId": "cb86ed5a-7a1c-4f5d-9b0b-3b09512b1013"
      },
      "execution_count": 264,
      "outputs": [
        {
          "output_type": "stream",
          "name": "stdout",
          "text": [
            "[1] 1.194798\n"
          ]
        }
      ]
    },
    {
      "cell_type": "code",
      "source": [
        "%%R\n",
        "# Calculate the odds ratio for the age group \"Less than 25\" compared to the reference age group\n",
        "# The formula used here calculates the adjusted odds ratio based on the logistic regression coefficient\n",
        "exp(1.30839) / (1 - control + (control * exp(1.30839)))"
      ],
      "metadata": {
        "colab": {
          "base_uri": "https://localhost:8080/"
        },
        "id": "LCxeqZ6A3yP-",
        "outputId": "bed09654-4695-4d1a-b387-668efb9568d7"
      },
      "execution_count": 265,
      "outputs": [
        {
          "output_type": "stream",
          "name": "stdout",
          "text": [
            "[1] 2.49612\n"
          ]
        }
      ]
    }
  ]
}